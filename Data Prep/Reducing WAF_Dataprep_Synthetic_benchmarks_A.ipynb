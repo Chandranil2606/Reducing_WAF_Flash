{
 "cells": [
  {
   "cell_type": "code",
   "execution_count": 1,
   "metadata": {},
   "outputs": [
    {
     "name": "stdout",
     "output_type": "stream",
     "text": [
      "1\n",
      "Working with file:C:\\Users\\cchak\\Desktop\\Data_ECML\\VDI Traces\\selected_few\\synthetic_dataprep_A.csv\n",
      "Number of IO Accesses:  12166090\n"
     ]
    }
   ],
   "source": [
    "import csv\n",
    "import sys\n",
    "import pandas as pd\n",
    "import os\n",
    "import glob\n",
    "import itertools\n",
    "import numpy as np\n",
    "from collections import Counter\n",
    "import matplotlib.pyplot as plt\n",
    "import math\n",
    "\n",
    "path = r'C:\\Users\\cchak\\Desktop\\Data_ECML\\VDI Traces\\selected_few'\n",
    "all_files = glob.glob(os.path.join(path, \"synthetic_dataprep_A.csv\"))\n",
    "print(len(all_files))\n",
    "\n",
    "for f in all_files:\n",
    "    print(\"Working with file:\" + str(f))\n",
    "    cols = ['IO_Num','LBA']\n",
    "    df = pd.read_csv(f,engine='python',skiprows =1,header=None,na_values=['-1'], index_col=False)\n",
    "    df.columns = cols\n",
    "    print(\"Number of IO Accesses: \",len(df))\n",
    "    "
   ]
  },
  {
   "cell_type": "code",
   "execution_count": 7,
   "metadata": {},
   "outputs": [
    {
     "data": {
      "text/html": [
       "<div>\n",
       "<style scoped>\n",
       "    .dataframe tbody tr th:only-of-type {\n",
       "        vertical-align: middle;\n",
       "    }\n",
       "\n",
       "    .dataframe tbody tr th {\n",
       "        vertical-align: top;\n",
       "    }\n",
       "\n",
       "    .dataframe thead th {\n",
       "        text-align: right;\n",
       "    }\n",
       "</style>\n",
       "<table border=\"1\" class=\"dataframe\">\n",
       "  <thead>\n",
       "    <tr style=\"text-align: right;\">\n",
       "      <th></th>\n",
       "      <th>IO_Num</th>\n",
       "      <th>LBA</th>\n",
       "    </tr>\n",
       "  </thead>\n",
       "  <tbody>\n",
       "    <tr>\n",
       "      <th>1216605</th>\n",
       "      <td>1216605</td>\n",
       "      <td>1216605</td>\n",
       "    </tr>\n",
       "    <tr>\n",
       "      <th>1216606</th>\n",
       "      <td>1216606</td>\n",
       "      <td>1216606</td>\n",
       "    </tr>\n",
       "    <tr>\n",
       "      <th>1216607</th>\n",
       "      <td>1216607</td>\n",
       "      <td>1216607</td>\n",
       "    </tr>\n",
       "    <tr>\n",
       "      <th>1216608</th>\n",
       "      <td>1216608</td>\n",
       "      <td>1216608</td>\n",
       "    </tr>\n",
       "    <tr>\n",
       "      <th>1216609</th>\n",
       "      <td>1216609</td>\n",
       "      <td>0</td>\n",
       "    </tr>\n",
       "    <tr>\n",
       "      <th>1216610</th>\n",
       "      <td>1216610</td>\n",
       "      <td>1</td>\n",
       "    </tr>\n",
       "    <tr>\n",
       "      <th>1216611</th>\n",
       "      <td>1216611</td>\n",
       "      <td>2</td>\n",
       "    </tr>\n",
       "    <tr>\n",
       "      <th>1216612</th>\n",
       "      <td>1216612</td>\n",
       "      <td>3</td>\n",
       "    </tr>\n",
       "    <tr>\n",
       "      <th>1216613</th>\n",
       "      <td>1216613</td>\n",
       "      <td>4</td>\n",
       "    </tr>\n",
       "    <tr>\n",
       "      <th>1216614</th>\n",
       "      <td>1216614</td>\n",
       "      <td>5</td>\n",
       "    </tr>\n",
       "  </tbody>\n",
       "</table>\n",
       "</div>"
      ],
      "text/plain": [
       "          IO_Num      LBA\n",
       "1216605  1216605  1216605\n",
       "1216606  1216606  1216606\n",
       "1216607  1216607  1216607\n",
       "1216608  1216608  1216608\n",
       "1216609  1216609        0\n",
       "1216610  1216610        1\n",
       "1216611  1216611        2\n",
       "1216612  1216612        3\n",
       "1216613  1216613        4\n",
       "1216614  1216614        5"
      ]
     },
     "execution_count": 7,
     "metadata": {},
     "output_type": "execute_result"
    }
   ],
   "source": [
    "df[1216605:1216615]"
   ]
  },
  {
   "cell_type": "code",
   "execution_count": 6,
   "metadata": {},
   "outputs": [
    {
     "data": {
      "text/html": [
       "<div>\n",
       "<style scoped>\n",
       "    .dataframe tbody tr th:only-of-type {\n",
       "        vertical-align: middle;\n",
       "    }\n",
       "\n",
       "    .dataframe tbody tr th {\n",
       "        vertical-align: top;\n",
       "    }\n",
       "\n",
       "    .dataframe thead th {\n",
       "        text-align: right;\n",
       "    }\n",
       "</style>\n",
       "<table border=\"1\" class=\"dataframe\">\n",
       "  <thead>\n",
       "    <tr style=\"text-align: right;\">\n",
       "      <th></th>\n",
       "      <th>IO_Num</th>\n",
       "      <th>LBA</th>\n",
       "    </tr>\n",
       "  </thead>\n",
       "  <tbody>\n",
       "    <tr>\n",
       "      <th>0</th>\n",
       "      <td>0</td>\n",
       "      <td>0</td>\n",
       "    </tr>\n",
       "    <tr>\n",
       "      <th>1</th>\n",
       "      <td>1</td>\n",
       "      <td>1</td>\n",
       "    </tr>\n",
       "    <tr>\n",
       "      <th>2</th>\n",
       "      <td>2</td>\n",
       "      <td>2</td>\n",
       "    </tr>\n",
       "    <tr>\n",
       "      <th>3</th>\n",
       "      <td>3</td>\n",
       "      <td>3</td>\n",
       "    </tr>\n",
       "    <tr>\n",
       "      <th>4</th>\n",
       "      <td>4</td>\n",
       "      <td>4</td>\n",
       "    </tr>\n",
       "  </tbody>\n",
       "</table>\n",
       "</div>"
      ],
      "text/plain": [
       "   IO_Num  LBA\n",
       "0       0    0\n",
       "1       1    1\n",
       "2       2    2\n",
       "3       3    3\n",
       "4       4    4"
      ]
     },
     "execution_count": 6,
     "metadata": {},
     "output_type": "execute_result"
    }
   ],
   "source": [
    "df.head(5)"
   ]
  },
  {
   "cell_type": "code",
   "execution_count": 12,
   "metadata": {},
   "outputs": [],
   "source": [
    "def dataprep(f):\n",
    "    print(\"Working with file:\" + str(f))\n",
    "    cols = ['IO_Num','LBA']\n",
    "    df = pd.read_csv(f,engine='python',skiprows =1,header=None,na_values=['-1'], index_col=False)\n",
    "    df.columns = cols\n",
    "    print(\"Number of IO Accesses: \",len(df))\n",
    "    \n",
    "    lba_list = df['LBA'].tolist()\n",
    "    \n",
    "    # Compute death time per LBA and add a column\n",
    "    death_time_list = []\n",
    "    counter = -1\n",
    "    death_delta = 1216609  # Hyperparameter\n",
    "    \n",
    "    for x in lba_list:\n",
    "        death_time_list.append(death_delta)\n",
    "        \n",
    "    df_out = pd.DataFrame(columns = ['LBA','Death_time'])\n",
    "    df_out['LBA'] = lba_list\n",
    "    df_out['Death_time'] = death_time_list\n",
    "    df_out.to_csv(f + \"_dataprep_heiner_deathtime_added.csv\")\n",
    "    print(f, ' ---  Data Prep Done')"
   ]
  },
  {
   "cell_type": "code",
   "execution_count": 13,
   "metadata": {},
   "outputs": [
    {
     "name": "stdout",
     "output_type": "stream",
     "text": [
      "Working with file:C:\\Users\\cchak\\Desktop\\Data_ECML\\VDI Traces\\selected_few\\synthetic_dataprep_A.csv\n",
      "Number of IO Accesses:  12166090\n",
      "C:\\Users\\cchak\\Desktop\\Data_ECML\\VDI Traces\\selected_few\\synthetic_dataprep_A.csv  ---  Data Prep Done\n"
     ]
    }
   ],
   "source": [
    "for f in all_files:\n",
    "    dataprep(f)"
   ]
  },
  {
   "cell_type": "code",
   "execution_count": null,
   "metadata": {},
   "outputs": [],
   "source": []
  }
 ],
 "metadata": {
  "kernelspec": {
   "display_name": "Python 3",
   "language": "python",
   "name": "python3"
  },
  "language_info": {
   "codemirror_mode": {
    "name": "ipython",
    "version": 3
   },
   "file_extension": ".py",
   "mimetype": "text/x-python",
   "name": "python",
   "nbconvert_exporter": "python",
   "pygments_lexer": "ipython3",
   "version": "3.7.9"
  }
 },
 "nbformat": 4,
 "nbformat_minor": 4
}
