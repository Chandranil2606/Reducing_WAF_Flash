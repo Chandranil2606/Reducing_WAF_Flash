{
 "cells": [
  {
   "cell_type": "code",
   "execution_count": null,
   "metadata": {},
   "outputs": [],
   "source": [
    "import csv\n",
    "import sys\n",
    "import pandas as pd\n",
    "import os\n",
    "import glob\n",
    "import itertools\n",
    "import numpy as np\n",
    "from collections import Counter\n",
    "import matplotlib.pyplot as plt"
   ]
  },
  {
   "cell_type": "code",
   "execution_count": null,
   "metadata": {},
   "outputs": [],
   "source": [
    "path = r'C:\\Users\\cchak\\Desktop\\Data_ECML\\VDI Traces\\selected_few'\n",
    "all_files = glob.glob(os.path.join(path, \"*.csv\"))\n",
    "print(all_files)"
   ]
  },
  {
   "cell_type": "code",
   "execution_count": null,
   "metadata": {},
   "outputs": [],
   "source": [
    "x = 0\n",
    "while x < len(all_files):\n",
    "    k= all_files[x].rindex('\\\\')\n",
    "    tmp = all_files[x][k+1:]\n",
    "    print(str(x) + \" represents \" + tmp)\n",
    "    x = x + 1"
   ]
  },
  {
   "cell_type": "code",
   "execution_count": null,
   "metadata": {},
   "outputs": [],
   "source": [
    "f = all_files[0]\n",
    "print(\"Working with file\" + str(f))\n",
    "cols = ['Timestamp','Response','IOType','LUN','Offset','Size']\n",
    "df = pd.read_csv(f,engine='python',skiprows =1,header=None,na_values=['-1'], index_col=False)\n",
    "df.columns = cols\n",
    "print(len(df))"
   ]
  },
  {
   "cell_type": "code",
   "execution_count": null,
   "metadata": {},
   "outputs": [],
   "source": [
    "import math\n",
    "\n",
    "lba_list = df['Offset'].tolist()\n",
    "size_list = df['Size'].tolist()\n",
    "new_lba_list = []\n",
    "\n",
    "\n",
    "page_size = min(size_list)\n",
    "write_size = min(size_list)\n",
    "\n",
    "counter = -1\n",
    "while(counter < len(lba_list) - 1):\n",
    "    counter = counter + 1\n",
    "    size = size_list[counter]\n",
    "    lba = lba_list[counter]\n",
    "    num_writes = math.ceil(size/page_size)\n",
    "    start = 1\n",
    "    while(start <=num_writes):\n",
    "        new_lba_list.append(lba)\n",
    "        lba = lba + page_size\n",
    "        start = start + 1\n",
    "\n",
    "\n",
    "print(len(new_lba_list))\n",
    "print(len(new_size_list))"
   ]
  },
  {
   "cell_type": "code",
   "execution_count": null,
   "metadata": {},
   "outputs": [],
   "source": [
    "# Compute death time per LBA and add a column\n",
    "\n",
    "death_time_list = []\n",
    "counter = -1\n",
    "\n",
    "while(counter < len(new_lba_list) - 2):\n",
    "    counter = counter + 1\n",
    "    if(counter >100 and counter%100==0):\n",
    "        print(\"Counter  :\" +str(counter))\n",
    "\n",
    "    lba = new_lba_list[counter]\n",
    "    if(new_lba_list[(counter-1):].count(lba) == 1):\n",
    "        death_time_list.append(-1)\n",
    "    else:\n",
    "        next_lba_counter = counter + 1 \n",
    "        next_lba = new_lba_list[next_lba_counter]\n",
    "        death_counter = 1\n",
    "        while(next_lba != lba):\n",
    "            if(next_lba_counter >= len(new_lba_list) - 2):\n",
    "                break\n",
    "            next_lba_counter = next_lba_counter + 1\n",
    "            next_lba = new_lba_list[next_lba_counter]\n",
    "            death_counter = death_counter + 1\n",
    "\n",
    "        if(next_lba_counter >= len(new_lba_list) - 1):\n",
    "            death_time_list.append(-1)\n",
    "        else:\n",
    "            death_time_list.append(death_counter)\n",
    "      \n",
    "    \n",
    "\n",
    "\n",
    "\n",
    "print(len(death_time_list))\n",
    "print(len(new_lba_list))\n",
    "      \n",
    "        "
   ]
  },
  {
   "cell_type": "code",
   "execution_count": null,
   "metadata": {},
   "outputs": [],
   "source": [
    "k= len(death_time_list)\n",
    "print(len(death_time_list))\n",
    "print(len(new_lba_list))\n"
   ]
  },
  {
   "cell_type": "code",
   "execution_count": null,
   "metadata": {},
   "outputs": [],
   "source": [
    "\n",
    "new_size_list = new_size_list[:273174]"
   ]
  },
  {
   "cell_type": "code",
   "execution_count": null,
   "metadata": {},
   "outputs": [],
   "source": [
    "new_lba_list = new_lba_list[:k]\n",
    "df_out = pd.DataFrame(columns = ['LBA','Death_time'])\n",
    "\n",
    "df_out['LBA'] = new_lba_list\n",
    "df_out['Size'] = new_size_list\n",
    "df_out['Death_time'] = death_time_list"
   ]
  },
  {
   "cell_type": "code",
   "execution_count": null,
   "metadata": {},
   "outputs": [],
   "source": [
    "df_out.to_csv(f + \"_updated_dataprep_done.csv\")\n",
    "print('Done')"
   ]
  },
  {
   "cell_type": "code",
   "execution_count": null,
   "metadata": {},
   "outputs": [],
   "source": []
  }
 ],
 "metadata": {
  "kernelspec": {
   "display_name": "Python 3",
   "language": "python",
   "name": "python3"
  },
  "language_info": {
   "codemirror_mode": {
    "name": "ipython",
    "version": 3
   },
   "file_extension": ".py",
   "mimetype": "text/x-python",
   "name": "python",
   "nbconvert_exporter": "python",
   "pygments_lexer": "ipython3",
   "version": "3.7.9"
  }
 },
 "nbformat": 4,
 "nbformat_minor": 4
}
