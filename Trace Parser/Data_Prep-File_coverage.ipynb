{
 "cells": [
  {
   "cell_type": "code",
   "execution_count": 13,
   "metadata": {},
   "outputs": [],
   "source": [
    "# Load a file\n",
    "\n",
    "import csv\n",
    "import sys\n",
    "import pandas as pd\n",
    "import os\n",
    "import glob\n",
    "import itertools\n",
    "import numpy as np\n",
    "from collections import Counter\n",
    "import matplotlib.pyplot as plt\n",
    "import collections\n",
    "\n",
    "path= r'C:\\Users\\cchak\\Desktop\\Data_ECML\\VDI Traces'\n",
    "arr = os.listdir(path)"
   ]
  },
  {
   "cell_type": "code",
   "execution_count": 15,
   "metadata": {},
   "outputs": [
    {
     "name": "stdout",
     "output_type": "stream",
     "text": [
      "Total files : 14\n"
     ]
    }
   ],
   "source": [
    "from collections import Counter\n",
    "selected_files = ['2016031115-LUN2.csv','2016030817-LUN2.csv','2016022315-LUN2.csv','2016030917-LUN2.csv','2016030819-LUN2.csv',\n",
    "                 '2016030819-LUN2.csv','2016030916-LUN2.csv','2016030110-LUN2.csv','2016030415-LUN2.csv','2016022117-LUN3.csv',\n",
    "                 '2016022020-LUN4.csv','2016022116-LUN3.csv','2016030214-LUN0.csv','2016022817-LUN3.csv','2016022719-LUN3.csv',\n",
    "                 '2016030918-LUN2.csv','2016030117-LUN2.csv']\n",
    "\n",
    "files_shortlist = []\n",
    "for f in arr:\n",
    "    if 'systor' in f:\n",
    "        new_path =path + \"\\\\\"+ f\n",
    "        all_files = glob.glob(os.path.join(new_path, \"*.csv\"))\n",
    "        for f in selected_files:\n",
    "            for x in all_files:\n",
    "                if(f in x):\n",
    "                    filename = new_path + \"\\\\\" + str(f)\n",
    "                    files_shortlist.append(filename)\n",
    "\n",
    "print(\"Total files : \"+str(len(files_shortlist)))\n",
    "           \n",
    "     "
   ]
  },
  {
   "cell_type": "code",
   "execution_count": 34,
   "metadata": {},
   "outputs": [
    {
     "data": {
      "text/plain": [
       "['C:\\\\Users\\\\cchak\\\\Desktop\\\\Data_ECML\\\\VDI Traces\\\\systor17-04\\\\2016022315-LUN2.csv',\n",
       " 'C:\\\\Users\\\\cchak\\\\Desktop\\\\Data_ECML\\\\VDI Traces\\\\systor17-11\\\\2016022719-LUN3.csv',\n",
       " 'C:\\\\Users\\\\cchak\\\\Desktop\\\\Data_ECML\\\\VDI Traces\\\\systor17-12\\\\2016022817-LUN3.csv',\n",
       " 'C:\\\\Users\\\\cchak\\\\Desktop\\\\Data_ECML\\\\VDI Traces\\\\systor17-15\\\\2016030110-LUN2.csv',\n",
       " 'C:\\\\Users\\\\cchak\\\\Desktop\\\\Data_ECML\\\\VDI Traces\\\\systor17-16\\\\2016030117-LUN2.csv',\n",
       " 'C:\\\\Users\\\\cchak\\\\Desktop\\\\Data_ECML\\\\VDI Traces\\\\systor17-17\\\\2016030214-LUN0.csv',\n",
       " 'C:\\\\Users\\\\cchak\\\\Desktop\\\\Data_ECML\\\\VDI Traces\\\\systor17-20\\\\2016030415-LUN2.csv',\n",
       " 'C:\\\\Users\\\\cchak\\\\Desktop\\\\Data_ECML\\\\VDI Traces\\\\systor17-26\\\\2016030817-LUN2.csv',\n",
       " 'C:\\\\Users\\\\cchak\\\\Desktop\\\\Data_ECML\\\\VDI Traces\\\\systor17-27\\\\2016030819-LUN2.csv',\n",
       " 'C:\\\\Users\\\\cchak\\\\Desktop\\\\Data_ECML\\\\VDI Traces\\\\systor17-27\\\\2016030819-LUN2.csv',\n",
       " 'C:\\\\Users\\\\cchak\\\\Desktop\\\\Data_ECML\\\\VDI Traces\\\\systor17-28\\\\2016030917-LUN2.csv',\n",
       " 'C:\\\\Users\\\\cchak\\\\Desktop\\\\Data_ECML\\\\VDI Traces\\\\systor17-28\\\\2016030916-LUN2.csv',\n",
       " 'C:\\\\Users\\\\cchak\\\\Desktop\\\\Data_ECML\\\\VDI Traces\\\\systor17-28\\\\2016030918-LUN2.csv',\n",
       " 'C:\\\\Users\\\\cchak\\\\Desktop\\\\Data_ECML\\\\VDI Traces\\\\systor17-32\\\\2016031115-LUN2.csv']"
      ]
     },
     "execution_count": 34,
     "metadata": {},
     "output_type": "execute_result"
    }
   ],
   "source": [
    "files_shortlist"
   ]
  },
  {
   "cell_type": "code",
   "execution_count": 21,
   "metadata": {},
   "outputs": [
    {
     "name": "stdout",
     "output_type": "stream",
     "text": [
      "5226120\n",
      "Coverage for top 1000 LBA is 66.96334948298164 %\n",
      "Coverage for top 1000 LBA Delta is 59.077269561357184 %\n",
      "782802\n",
      "Coverage for top 1000 LBA is 14.311792764964832 %\n",
      "Coverage for top 1000 LBA Delta is 56.794949425269735 %\n",
      "1571536\n",
      "Coverage for top 1000 LBA is 7.540711762250435 %\n",
      "Coverage for top 1000 LBA Delta is 56.64948178088189 %\n",
      "5063558\n",
      "Coverage for top 1000 LBA is 55.597032758388465 %\n",
      "Coverage for top 1000 LBA Delta is 49.667210289681684 %\n",
      "2699423\n",
      "Coverage for top 1000 LBA is 53.09986615658235 %\n",
      "Coverage for top 1000 LBA Delta is 55.911281781328825 %\n",
      "1786682\n",
      "Coverage for top 1000 LBA is 48.05846815493748 %\n",
      "Coverage for top 1000 LBA Delta is 56.81548255369451 %\n",
      "1825907\n",
      "Coverage for top 1000 LBA is 52.26136928112987 %\n",
      "Coverage for top 1000 LBA Delta is 61.19736656905308 %\n",
      "4443487\n",
      "Coverage for top 1000 LBA is 70.08781616779794 %\n",
      "Coverage for top 1000 LBA Delta is 64.30494789339993 %\n",
      "2902328\n",
      "Coverage for top 1000 LBA is 69.80923589614957 %\n",
      "Coverage for top 1000 LBA Delta is 69.36435165150183 %\n",
      "2902328\n",
      "Coverage for top 1000 LBA is 69.80923589614957 %\n",
      "Coverage for top 1000 LBA Delta is 69.36435165150183 %\n",
      "2472671\n",
      "Coverage for top 1000 LBA is 57.71386488538103 %\n",
      "Coverage for top 1000 LBA Delta is 58.11812408525032 %\n",
      "3756950\n",
      "Coverage for top 1000 LBA is 61.45037863160277 %\n",
      "Coverage for top 1000 LBA Delta is 60.070110062683824 %\n",
      "4555252\n",
      "Coverage for top 1000 LBA is 62.20479130463035 %\n",
      "Coverage for top 1000 LBA Delta is 56.16170082357683 %\n",
      "2408228\n",
      "Coverage for top 1000 LBA is 72.34539254588852 %\n",
      "Coverage for top 1000 LBA Delta is 69.13984057987865 %\n"
     ]
    }
   ],
   "source": [
    "for f in files_shortlist:\n",
    "    col_1 = ['Timestamp','Response','IOType','LUN','Offset','Size']\n",
    "    df = pd.read_csv(f,engine='python',skiprows =1,header=None,na_values=['-1'], index_col=False)\n",
    "    df.columns = col_1\n",
    "    print(len(df))\n",
    "    lba_list = df['Offset'].tolist()\n",
    "    \n",
    "    common_list_dict = Counter(lba_list).most_common(1000)\n",
    "    common_list = []\n",
    "    for x in common_list_dict:\n",
    "        common_list.append(x[0])\n",
    "    coverage = 0\n",
    "    for x in common_list_dict:\n",
    "        if x[0] in common_list:\n",
    "            coverage = coverage + x[1]\n",
    "    \n",
    "    print(\"Coverage for top \" + str(len(common_list)) +\" LBA is \" + str((coverage/len(df))*100) +\" %\")\n",
    "    \n",
    "    lba_delta_list = [abs(j-i) for i,j in zip(lba_list, lba_list[1:])]\n",
    "    common_list_dict_delta = Counter(lba_delta_list).most_common(1000)\n",
    "    common_list = []\n",
    "    for x in common_list_dict_delta:\n",
    "        common_list.append(x[0])\n",
    "    coverage = 0\n",
    "    for x in common_list_dict_delta:\n",
    "        if x[0] in common_list:\n",
    "            coverage = coverage + x[1]\n",
    "    \n",
    "    print(\"Coverage for top \" + str(len(common_list)) +\" LBA Delta is \" + str((coverage/len(df))*100) +\" %\")\n",
    "    "
   ]
  },
  {
   "cell_type": "code",
   "execution_count": null,
   "metadata": {},
   "outputs": [],
   "source": [
    "# Load each file\n",
    "# Expand\n",
    "# Save the file\n",
    "\n",
    "for f in files_shortlist:\n",
    "    col_1 = ['Timestamp','Response','IOType','LUN','Offset','Size']\n",
    "    df = pd.read_csv(f,engine='python',skiprows =1,header=None,na_values=['-1'], index_col=False)\n",
    "    df.columns = col_1\n",
    "    "
   ]
  },
  {
   "cell_type": "code",
   "execution_count": 22,
   "metadata": {},
   "outputs": [
    {
     "data": {
      "text/plain": [
       "2408228"
      ]
     },
     "execution_count": 22,
     "metadata": {},
     "output_type": "execute_result"
    }
   ],
   "source": [
    "len(lba_list)"
   ]
  }
 ],
 "metadata": {
  "kernelspec": {
   "display_name": "Python 3",
   "language": "python",
   "name": "python3"
  },
  "language_info": {
   "codemirror_mode": {
    "name": "ipython",
    "version": 3
   },
   "file_extension": ".py",
   "mimetype": "text/x-python",
   "name": "python",
   "nbconvert_exporter": "python",
   "pygments_lexer": "ipython3",
   "version": "3.7.9"
  }
 },
 "nbformat": 4,
 "nbformat_minor": 4
}
