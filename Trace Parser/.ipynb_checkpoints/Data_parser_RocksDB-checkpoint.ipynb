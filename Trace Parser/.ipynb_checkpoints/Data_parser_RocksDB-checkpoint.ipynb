{
 "cells": [
  {
   "cell_type": "code",
   "execution_count": null,
   "metadata": {
    "colab": {
     "base_uri": "https://localhost:8080/"
    },
    "id": "sKIDLmafsx9c",
    "outputId": "a7f82580-e863-4448-868d-62e0cd40b115"
   },
   "outputs": [],
   "source": [
    "import csv\n",
    "import sys\n",
    "import pandas as pd\n",
    "import os\n",
    "import glob\n",
    "import itertools\n",
    "import numpy as np\n",
    "from collections import Counter\n",
    "import matplotlib.pyplot as plt\n",
    "from google.colab import drive\n",
    "drive.mount('/content/drive')\n",
    "\n"
   ]
  },
  {
   "cell_type": "code",
   "execution_count": null,
   "metadata": {
    "colab": {
     "base_uri": "https://localhost:8080/"
    },
    "id": "t2YdWyoK8zCO",
    "outputId": "bc51fc46-94f9-4b55-c895-a0465ea9cd9e"
   },
   "outputs": [],
   "source": [
    "path = '/content/drive/My Drive/Reducing_WAF_GC/VDI_Traces/New_SSD_traces/ssdtrace-01-15'\n",
    "all_files = glob.glob(os.path.join(path, \"*\"))\n",
    "all_files.sort()\n",
    "print(\"Number of files :\", len(all_files))"
   ]
  },
  {
   "cell_type": "code",
   "execution_count": null,
   "metadata": {
    "colab": {
     "base_uri": "https://localhost:8080/"
    },
    "id": "77kC19Fd86Q5",
    "outputId": "cff713c3-9793-4541-f1e6-9e29a5b7d4d7"
   },
   "outputs": [],
   "source": [
    "for f in all_files:\n",
    "  if \"dataprep\" in f:\n",
    "    continue\n",
    "  print(\"Working on file:  \",f)\n",
    "  device_major_list = []\n",
    "  device_minor_list = []\n",
    "  cpu_id_list = []\n",
    "  io_sequence_list = []\n",
    "  timestamp_list = []\n",
    "  process_id_list = []\n",
    "  default_action_list = []\n",
    "  io_action_list = []\n",
    "  lba_list = []\n",
    "  io_size = []\n",
    "\n",
    "  rd = open (f, \"r\")\n",
    "\n",
    "  line_counter = 0\n",
    "  while True:\n",
    "      line_counter = line_counter + 1\n",
    "      line = rd.readline()   \n",
    "      if not line :  # End of file\n",
    "          break;\n",
    " \n",
    "      while (line_counter <= 3):\n",
    "          line_counter = line_counter + 1\n",
    "          line = rd.readline()\n",
    "\n",
    "\n",
    "      while \"W\" not in line or \"WFS\" in line or 'FWS' in line or '+' not in line:\n",
    "        line_counter = line_counter + 1\n",
    "        line = rd.readline()\n",
    "        if not line :  # End of file\n",
    "          break;\n",
    "\n",
    "      if(line_counter >= 50000 and line_counter %50000 == 0):\n",
    "        print(\"Number of Lines Processed: \",line_counter)\n",
    "        df_out = pd.DataFrame(columns = ['device_major','device_minor','cpu_id','io_sequence','timestamp','process_id','default_action','io_action','lba','io_size'])\n",
    "        df_out['device_major']=device_major_list\n",
    "        df_out['device_minor']=device_minor_list\n",
    "        df_out['cpu_id']=cpu_id_list\n",
    "        df_out['io_sequence']=io_sequence_list\n",
    "        df_out['timestamp']=timestamp_list\n",
    "        df_out['process_id']=process_id_list\n",
    "        df_out['default_action']=default_action_list\n",
    "        df_out['io_action']=io_action_list\n",
    "        df_out['lba']=lba_list\n",
    "        df_out['io_size']=io_size\n",
    "        df_out.to_csv(f + \"_dataprep_incomplete.csv\")\n",
    "        \n",
    "      k = line.strip(' ')\n",
    "      counter = 0\n",
    "      for x in k:\n",
    "        b = k.split(' ')\n",
    "        for x in b:\n",
    "          if x is ' ' or x is '' or x is [] or '+' in x or '\\n' in x:   # Skipping useless data\n",
    "            pass\n",
    "          else:\n",
    "            counter = counter + 1\n",
    "            if counter == 1:\n",
    "              tmp = b[0].split(',')\n",
    "              device_major_list.append(int(tmp[0]))\n",
    "              device_minor_list.append(int(tmp[1]))\n",
    "            elif counter == 2:\n",
    "              cpu_id_list.append(int(x))\n",
    "            elif counter == 3:\n",
    "              io_sequence_list.append(int(x))\n",
    "            elif counter == 4:\n",
    "              timestamp_list.append(float(x))\n",
    "            elif counter == 5:\n",
    "              process_id_list.append(int(x))\n",
    "            elif counter == 6:\n",
    "              default_action_list.append(x)\n",
    "            elif counter == 7:\n",
    "              io_action_list.append(x)\n",
    "            elif counter == 8:\n",
    "              lba_list.append(int(x))\n",
    "            elif counter == 9:\n",
    "              io_size.append(int(x))\n",
    "    \n",
    "  # Close file \n",
    "  rd.close()\n",
    "  \n",
    "  df_out = pd.DataFrame(columns = ['device_major','device_minor','cpu_id','io_sequence','timestamp','process_id','default_action','io_action','lba','io_size'])\n",
    "  df_out['device_major']=device_major_list\n",
    "  df_out['device_minor']=device_minor_list\n",
    "  df_out['cpu_id']=cpu_id_list\n",
    "  df_out['io_sequence']=io_sequence_list\n",
    "  df_out['timestamp']=timestamp_list\n",
    "  df_out['process_id']=process_id_list\n",
    "  df_out['default_action']=default_action_list\n",
    "  df_out['io_action']=io_action_list\n",
    "  df_out['lba']=lba_list\n",
    "  df_out['io_size']=io_size\n",
    "  df_out.to_csv(f + \"_dataprep_complete.csv\")\n",
    "  print('File Written..Complete..')\n"
   ]
  },
  {
   "cell_type": "code",
   "execution_count": null,
   "metadata": {
    "id": "65AiGv_XxY0v"
   },
   "outputs": [],
   "source": []
  }
 ],
 "metadata": {
  "colab": {
   "collapsed_sections": [],
   "name": "Reducing_GC_Parser",
   "provenance": []
  },
  "kernelspec": {
   "display_name": "Python 3",
   "language": "python",
   "name": "python3"
  },
  "language_info": {
   "codemirror_mode": {
    "name": "ipython",
    "version": 3
   },
   "file_extension": ".py",
   "mimetype": "text/x-python",
   "name": "python",
   "nbconvert_exporter": "python",
   "pygments_lexer": "ipython3",
   "version": "3.7.9"
  }
 },
 "nbformat": 4,
 "nbformat_minor": 1
}
