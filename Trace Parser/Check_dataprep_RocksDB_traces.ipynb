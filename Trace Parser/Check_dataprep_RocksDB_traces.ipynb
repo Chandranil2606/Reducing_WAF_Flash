{
 "cells": [
  {
   "cell_type": "code",
   "execution_count": 2,
   "metadata": {},
   "outputs": [],
   "source": [
    "# Checking data for consistency: Trace was divided into three groups ssdtrace-00, ssdtrace00-15, ssdtrace \n",
    "import csv\n",
    "import sys\n",
    "import pandas as pd\n",
    "import os\n",
    "import glob\n",
    "import itertools\n",
    "import numpy as np\n",
    "from collections import Counter\n",
    "import math\n",
    "import matplotlib.pyplot as plt"
   ]
  },
  {
   "cell_type": "code",
   "execution_count": null,
   "metadata": {},
   "outputs": [],
   "source": [
    "rd = open (f, \"r\")\n",
    "line_counter = 0\n",
    "while True:\n",
    "    line_counter = line_counter + 1\n",
    "    line = rd.readline()\n",
    "    if not line :  # End of file\n",
    "        break;"
   ]
  },
  {
   "cell_type": "code",
   "execution_count": null,
   "metadata": {},
   "outputs": [],
   "source": [
    "# Loading Parsed data to check for consistency\n",
    "path = r'C:\\Users\\cchak\\Desktop\\New SSD traces\\dataprep-newssd'\n",
    "all_files = glob.glob(os.path.join(path, \"ssdtrace-00_parsing_complete.csv\"))\n",
    "print(\"Number of files :\", len(all_files))\n",
    "f = all_files[0]\n",
    "df = pd.read_csv(all_files[0],engine='python',skiprows =1,header=None,na_values=['-1'], index_col=False)\n",
    "cols = ['io_num','device_major','device_minor','cpu_id','io_sequence','timestamp','process_id','default_action','io_action','lba','io_size']\n",
    "df.columns = cols\n",
    "cols_to_drop = ['io_num','device_major','device_minor','cpu_id','io_sequence','timestamp','process_id','default_action','io_action']\n",
    "df.drop(columns=cols_to_drop, inplace=True)\n",
    "print(\"Number of IO Accesses: \",len(df))"
   ]
  },
  {
   "cell_type": "code",
   "execution_count": null,
   "metadata": {},
   "outputs": [],
   "source": [
    "# Check for equal number of rows for each feature\n",
    "\n",
    "print(len(df))\n",
    "print(len(Counter(df['io_size'])))\n",
    "print(len(Counter(df['lba'])))\n",
    "print(df['lba'].min())\n",
    "print(df['lba'].max())\n",
    "print(df['io_size'].min())\n",
    "print(df['io_size'].max())\n",
    "print(df.isna().sum())"
   ]
  },
  {
   "cell_type": "code",
   "execution_count": null,
   "metadata": {},
   "outputs": [],
   "source": [
    "# Loading Expanded data to check for consistency\n",
    "\n",
    "path = r'C:\\Users\\cchak\\Desktop\\New SSD traces\\dataprep-newssd'\n",
    "all_files = glob.glob(os.path.join(path, \"ssdtrace-00_parsing_complete.csv_expanded_heiner.csv\"))\n",
    "print(\"Number of files :\", len(all_files))\n",
    "f = all_files[0]\n",
    "df = pd.read_csv(all_files[0],engine='python',skiprows =1,header=None,na_values=['-1'], index_col=False)\n",
    "cols = ['lba']\n",
    "df.columns = cols\n",
    "print(\"Number of IO Accesses: \",len(df))"
   ]
  },
  {
   "cell_type": "code",
   "execution_count": null,
   "metadata": {},
   "outputs": [],
   "source": [
    "df.head(5)"
   ]
  },
  {
   "cell_type": "code",
   "execution_count": null,
   "metadata": {},
   "outputs": [],
   "source": [
    "print(len(df))\n",
    "print(len(Counter(df['lba'])))\n",
    "print(df['lba'].min())\n",
    "print(df['lba'].max())"
   ]
  },
  {
   "cell_type": "code",
   "execution_count": 3,
   "metadata": {},
   "outputs": [
    {
     "name": "stdout",
     "output_type": "stream",
     "text": [
      "Number of files : 1\n",
      "Number of IO Accesses:  1955001\n"
     ]
    }
   ],
   "source": [
    "# Loading Datapreped data with deathtime to check for consistency\n",
    "\n",
    "path = r'C:\\Users\\cchak\\Desktop\\New SSD traces\\dataprep-newssd'\n",
    "all_files = glob.glob(os.path.join(path, \"ssdtrace-05_parsing_complete.csv_deathtime_added_Heiner.csv\"))\n",
    "print(\"Number of files :\", len(all_files))\n",
    "f = all_files[0]\n",
    "df = pd.read_csv(all_files[0],engine='python',skiprows =1,header=None,na_values=['-1'], index_col=False)\n",
    "cols = ['io_num','lba','deathtime']\n",
    "df.columns = cols\n",
    "print(\"Number of IO Accesses: \",len(df))"
   ]
  },
  {
   "cell_type": "code",
   "execution_count": null,
   "metadata": {},
   "outputs": [],
   "source": [
    "print(len(df))\n",
    "print(len(Counter(df['deathtime'])))\n",
    "print(len(Counter(df['lba'])))\n",
    "print(df['lba'].min())\n",
    "print(df['lba'].max())\n",
    "print(df['deathtime'].min())\n",
    "print(df['deathtime'].max())\n",
    "print(df.isna().sum())"
   ]
  },
  {
   "cell_type": "code",
   "execution_count": null,
   "metadata": {},
   "outputs": [],
   "source": [
    "df.head(10)"
   ]
  },
  {
   "cell_type": "code",
   "execution_count": 4,
   "metadata": {},
   "outputs": [
    {
     "name": "stdout",
     "output_type": "stream",
     "text": [
      "io_num            0\n",
      "lba               0\n",
      "deathtime    222417\n",
      "dtype: int64\n"
     ]
    }
   ],
   "source": [
    "print(df.isna().sum())"
   ]
  },
  {
   "cell_type": "code",
   "execution_count": 8,
   "metadata": {},
   "outputs": [
    {
     "data": {
      "text/plain": [
       "io_num       0.000000\n",
       "lba          0.000000\n",
       "deathtime    0.113768\n",
       "dtype: float64"
      ]
     },
     "execution_count": 8,
     "metadata": {},
     "output_type": "execute_result"
    }
   ],
   "source": [
    "df.isna().sum()/len(df)"
   ]
  },
  {
   "cell_type": "code",
   "execution_count": null,
   "metadata": {},
   "outputs": [],
   "source": []
  }
 ],
 "metadata": {
  "kernelspec": {
   "display_name": "Python 3",
   "language": "python",
   "name": "python3"
  },
  "language_info": {
   "codemirror_mode": {
    "name": "ipython",
    "version": 3
   },
   "file_extension": ".py",
   "mimetype": "text/x-python",
   "name": "python",
   "nbconvert_exporter": "python",
   "pygments_lexer": "ipython3",
   "version": "3.7.9"
  }
 },
 "nbformat": 4,
 "nbformat_minor": 4
}
